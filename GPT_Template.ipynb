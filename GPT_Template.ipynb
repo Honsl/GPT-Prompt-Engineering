{
  "cells": [
    {
      "cell_type": "markdown",
      "metadata": {
        "id": "view-in-github",
        "colab_type": "text"
      },
      "source": [
        "<a href=\"https://colab.research.google.com/github/Honsl/GPT-Prompt-Engineering/blob/main/GPT_Template.ipynb\" target=\"_parent\"><img src=\"https://colab.research.google.com/assets/colab-badge.svg\" alt=\"Open In Colab\"/></a>"
      ]
    },
    {
      "cell_type": "markdown",
      "metadata": {
        "id": "ep0A2pLDnoWK"
      },
      "source": [
        "# Setup\n",
        "\n",
        "To run this notebook, you’ll need to create a [OpenAI](https://platform.openai.com/docs/api-reference/introduction) account and install the openai python client."
      ]
    },
    {
      "cell_type": "code",
      "execution_count": null,
      "metadata": {
        "colab": {
          "base_uri": "https://localhost:8080/"
        },
        "id": "JLTW6u8LnkDg",
        "outputId": "52de811f-dbbb-40f1-dbcf-51848f414dec"
      },
      "outputs": [
        {
          "output_type": "stream",
          "name": "stdout",
          "text": [
            "Requirement already satisfied: openai in /usr/local/lib/python3.10/dist-packages (1.8.0)\n",
            "Requirement already satisfied: anyio<5,>=3.5.0 in /usr/local/lib/python3.10/dist-packages (from openai) (3.7.1)\n",
            "Requirement already satisfied: distro<2,>=1.7.0 in /usr/lib/python3/dist-packages (from openai) (1.7.0)\n",
            "Requirement already satisfied: httpx<1,>=0.23.0 in /usr/local/lib/python3.10/dist-packages (from openai) (0.26.0)\n",
            "Requirement already satisfied: pydantic<3,>=1.9.0 in /usr/local/lib/python3.10/dist-packages (from openai) (1.10.13)\n",
            "Requirement already satisfied: sniffio in /usr/local/lib/python3.10/dist-packages (from openai) (1.3.0)\n",
            "Requirement already satisfied: tqdm>4 in /usr/local/lib/python3.10/dist-packages (from openai) (4.66.1)\n",
            "Requirement already satisfied: typing-extensions<5,>=4.7 in /usr/local/lib/python3.10/dist-packages (from openai) (4.9.0)\n",
            "Requirement already satisfied: idna>=2.8 in /usr/local/lib/python3.10/dist-packages (from anyio<5,>=3.5.0->openai) (3.6)\n",
            "Requirement already satisfied: exceptiongroup in /usr/local/lib/python3.10/dist-packages (from anyio<5,>=3.5.0->openai) (1.2.0)\n",
            "Requirement already satisfied: certifi in /usr/local/lib/python3.10/dist-packages (from httpx<1,>=0.23.0->openai) (2023.11.17)\n",
            "Requirement already satisfied: httpcore==1.* in /usr/local/lib/python3.10/dist-packages (from httpx<1,>=0.23.0->openai) (1.0.2)\n",
            "Requirement already satisfied: h11<0.15,>=0.13 in /usr/local/lib/python3.10/dist-packages (from httpcore==1.*->httpx<1,>=0.23.0->openai) (0.14.0)\n"
          ]
        }
      ],
      "source": [
        "# install openai client\n",
        "!pip install openai"
      ]
    },
    {
      "cell_type": "markdown",
      "metadata": {
        "id": "z6RT-MsY0Rpp"
      },
      "source": [
        "# Run and then paste in your API code\n",
        "API keys can be found at [OpenAI API Key](https://platform.openai.com/api-keys)\n",
        "\n"
      ]
    },
    {
      "cell_type": "code",
      "execution_count": null,
      "metadata": {
        "colab": {
          "base_uri": "https://localhost:8080/"
        },
        "id": "5ZTkrAUhoIJE",
        "outputId": "bf178325-2472-4de0-a00c-9ad9a27665de"
      },
      "outputs": [
        {
          "name": "stdout",
          "output_type": "stream",
          "text": [
            "··········\n"
          ]
        }
      ],
      "source": [
        "# get a token: https://replicate.com/account\n",
        "from getpass import getpass\n",
        "import os\n",
        "from google.colab import output\n",
        "\n",
        "\n",
        "OPENAI_API_KEY  = getpass()\n",
        "os.environ[\"OPENAI_API_KEY\"] = OPENAI_API_KEY"
      ]
    },
    {
      "cell_type": "markdown",
      "metadata": {
        "id": "ns7MPV6TjWJM"
      },
      "source": [
        "## Responses can be slow - as at times it needs to boot up an instance to reply (3-5 mins).\n",
        "\n",
        "**2023-12-04:**\n",
        "**V1.1:** Changed from Llama2 to OpenAI\n",
        "\n",
        "\n",
        "\n",
        "---\n",
        "\n",
        "\n",
        "**TODO:**\n",
        "\n",
        "\n"
      ]
    },
    {
      "cell_type": "code",
      "execution_count": null,
      "metadata": {
        "colab": {
          "base_uri": "https://localhost:8080/",
          "height": 140
        },
        "id": "hkjJKac8rlS2",
        "outputId": "a22b7562-145e-4d05-d22d-c82071b73706"
      },
      "outputs": [
        {
          "output_type": "error",
          "ename": "SyntaxError",
          "evalue": "incomplete input (<ipython-input-17-a782b216ab52>, line 34)",
          "traceback": [
            "\u001b[0;36m  File \u001b[0;32m\"<ipython-input-17-a782b216ab52>\"\u001b[0;36m, line \u001b[0;32m34\u001b[0m\n\u001b[0;31m    '''\u001b[0m\n\u001b[0m    ^\u001b[0m\n\u001b[0;31mSyntaxError\u001b[0m\u001b[0;31m:\u001b[0m incomplete input\n"
          ]
        }
      ],
      "source": [
        "from openai import OpenAI\n",
        "client = OpenAI()\n",
        "\n",
        "model = \"gpt-3.5-turbo\"\n",
        "\n",
        "system_prompt = \"\"\"\n",
        "You are a barista at a coffee shop.\n",
        "Start conversation with:\"Hi, good morning. My name is Allan. What would you like to order?\".\n",
        " \"\"\"\n",
        "\n",
        "messageHistory = [\n",
        "{\"role\": \"system\", \"content\": system_prompt},\n",
        "{\"role\": \"user\", \"content\": \"Hi.\"}\n",
        "]\n",
        "\n",
        "new_prompt = 'empty'\n",
        "#continue to prompt the user untill empty string\n",
        "while(new_prompt!=''):\n",
        "  response = client.chat.completions.create(\n",
        "    model=model,\n",
        "    messages= messageHistory\n",
        "  )\n",
        "\n",
        "  #Append the assistant respone to the message history\n",
        "  messageHistory.append({\"role\": \"assistant\", \"content\": response.choices[0].message.content})\n",
        "\n",
        "  print(response.choices[0].message.content)\n",
        "\n",
        "  new_prompt = input('Enter response: ')\n",
        "  messageHistory.append({\"role\": \"user\", \"content\": new_prompt})\n",
        "\n",
        "\n",
        "\n",
        "\n",
        "\n",
        "\n",
        "\n"
      ]
    }
  ],
  "metadata": {
    "colab": {
      "provenance": [],
      "include_colab_link": true
    },
    "kernelspec": {
      "display_name": "Python 3",
      "name": "python3"
    },
    "language_info": {
      "name": "python"
    }
  },
  "nbformat": 4,
  "nbformat_minor": 0
}